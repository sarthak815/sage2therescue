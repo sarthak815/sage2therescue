{
 "cells": [
  {
   "cell_type": "code",
   "execution_count": 1,
   "id": "ecda4bbb-8070-49a7-b704-ac023e4c6262",
   "metadata": {},
   "outputs": [
    {
     "name": "stdout",
     "output_type": "stream",
     "text": [
      "--2022-02-05 17:01:19--  https://bin.equinox.io/c/4VmDzA7iaHb/ngrok-stable-linux-amd64.zip\n",
      "Resolving bin.equinox.io (bin.equinox.io)... 54.161.241.46, 18.205.222.128, 54.237.133.81, ...\n",
      "Connecting to bin.equinox.io (bin.equinox.io)|54.161.241.46|:443... connected.\n",
      "HTTP request sent, awaiting response... 200 OK\n",
      "Length: 13832437 (13M) [application/octet-stream]\n",
      "Saving to: 'ngrok-stable-linux-amd64.zip'\n",
      "\n",
      "ngrok-stable-linux- 100%[===================>]  13.19M  12.7MB/s    in 1.0s    \n",
      "\n",
      "2022-02-05 17:01:20 (12.7 MB/s) - 'ngrok-stable-linux-amd64.zip' saved [13832437/13832437]\n",
      "\n"
     ]
    }
   ],
   "source": [
    "!wget -O ngrok-stable-linux-amd64.zip https://bin.equinox.io/c/4VmDzA7iaHb/ngrok-stable-linux-amd64.zip"
   ]
  },
  {
   "cell_type": "code",
   "execution_count": 2,
   "id": "04e7a796-a7db-461d-84c5-2b80840a4aa1",
   "metadata": {},
   "outputs": [
    {
     "name": "stdout",
     "output_type": "stream",
     "text": [
      "Archive:  ngrok-stable-linux-amd64.zip\n",
      "  inflating: ngrok                   \n"
     ]
    }
   ],
   "source": [
    "!unzip -o ngrok-stable-linux-amd64.zip"
   ]
  },
  {
   "cell_type": "code",
   "execution_count": 3,
   "id": "c76b73c8-26d4-4851-b610-0a4928a082d3",
   "metadata": {},
   "outputs": [
    {
     "name": "stdout",
     "output_type": "stream",
     "text": [
      "Authtoken saved to configuration file: /home/studio-lab-user/.ngrok2/ngrok.yml\n"
     ]
    }
   ],
   "source": [
    "get_ipython().system_raw('./ngrok authtoken 24hAcAkyycSAirGpVDI0JvlPeqZ_3QjNGoSbQ8xjKkLBJNvx9')"
   ]
  },
  {
   "cell_type": "code",
   "execution_count": 4,
   "id": "052383af-8cdb-4103-a8be-82e200a472d9",
   "metadata": {},
   "outputs": [],
   "source": [
    "get_ipython().system_raw('./ngrok http 8501 &')"
   ]
  },
  {
   "cell_type": "code",
   "execution_count": 5,
   "id": "b58791c4-f1ba-43e7-8862-40673d5d670d",
   "metadata": {},
   "outputs": [
    {
     "name": "stdout",
     "output_type": "stream",
     "text": [
      "Execute the next cell and the go to the following URL: https://0bf1-3-132-111-50.ngrok.io\n"
     ]
    }
   ],
   "source": [
    "!curl -s http://localhost:4040/api/tunnels | python3 -c \\\n",
    "    'import sys, json; print(\"Execute the next cell and the go to the following URL: \" +json.load(sys.stdin)[\"tunnels\"][0][\"public_url\"])'"
   ]
  },
  {
   "cell_type": "code",
   "execution_count": null,
   "id": "d05befe1-7e23-4642-a7cd-6604c549d8f1",
   "metadata": {},
   "outputs": [
    {
     "name": "stdout",
     "output_type": "stream",
     "text": [
      "\u001b[0m\n",
      "\u001b[34m\u001b[1m  You can now view your Streamlit app in your browser.\u001b[0m\n",
      "\u001b[0m\n",
      "\u001b[34m  Network URL: \u001b[0m\u001b[1mhttp://169.254.255.2:8501\u001b[0m\n",
      "\u001b[34m  External URL: \u001b[0m\u001b[1mhttp://3.132.111.50:8501\u001b[0m\n",
      "\u001b[0m\n",
      "2022-02-05 17:01:48.379 Traceback (most recent call last):\n",
      "  File \"/home/studio-lab-user/.conda/envs/default/lib/python3.9/site-packages/streamlit/script_runner.py\", line 379, in _run_script\n",
      "    exec(code, module.__dict__)\n",
      "  File \"/home/studio-lab-user/sagemaker-studiolab-notebooks/app.py\", line 97, in <module>\n",
      "    app()\n",
      "  File \"/home/studio-lab-user/sagemaker-studiolab-notebooks/app.py\", line 54, in app\n",
      "    df = scrape_and_get(query=loc)\n",
      "TypeError: scrape_and_get() missing 4 required positional arguments: 'ts', 'dm', 'sa', and 'le'\n",
      "\n",
      "2022-02-05 17:06:30.307585: W tensorflow/python/util/util.cc:368] Sets are not currently considered sequences, but this may change in the future, so consider avoiding using them.\n",
      "All model checkpoint layers were used when initializing TFDistilBertForSequenceClassification.\n",
      "\n",
      "All the layers of TFDistilBertForSequenceClassification were initialized from the model checkpoint at ./SAModel/saved_model/.\n",
      "If your task is similar to the task the model of the checkpoint was trained on, you can already use TFDistilBertForSequenceClassification for predictions without further training.\n",
      "2022-02-05 17:07:37.415 Traceback (most recent call last):\n",
      "  File \"/home/studio-lab-user/.conda/envs/default/lib/python3.9/site-packages/streamlit/legacy_caching/caching.py\", line 539, in get_or_create_cached_value\n",
      "    return_value = _read_from_cache(\n",
      "  File \"/home/studio-lab-user/.conda/envs/default/lib/python3.9/site-packages/streamlit/legacy_caching/caching.py\", line 338, in _read_from_cache\n",
      "    raise e\n",
      "  File \"/home/studio-lab-user/.conda/envs/default/lib/python3.9/site-packages/streamlit/legacy_caching/caching.py\", line 323, in _read_from_cache\n",
      "    return _read_from_mem_cache(\n",
      "  File \"/home/studio-lab-user/.conda/envs/default/lib/python3.9/site-packages/streamlit/legacy_caching/caching.py\", line 241, in _read_from_mem_cache\n",
      "    raise CacheKeyNotFoundError(\"Key not found in mem cache\")\n",
      "streamlit.legacy_caching.caching.CacheKeyNotFoundError: Key not found in mem cache\n",
      "\n",
      "During handling of the above exception, another exception occurred:\n",
      "\n",
      "Traceback (most recent call last):\n",
      "  File \"/home/studio-lab-user/.conda/envs/default/lib/python3.9/site-packages/pandas/core/indexes/base.py\", line 3621, in get_loc\n",
      "    return self._engine.get_loc(casted_key)\n",
      "  File \"pandas/_libs/index.pyx\", line 136, in pandas._libs.index.IndexEngine.get_loc\n",
      "  File \"pandas/_libs/index.pyx\", line 163, in pandas._libs.index.IndexEngine.get_loc\n",
      "  File \"pandas/_libs/hashtable_class_helper.pxi\", line 2131, in pandas._libs.hashtable.Int64HashTable.get_item\n",
      "  File \"pandas/_libs/hashtable_class_helper.pxi\", line 2140, in pandas._libs.hashtable.Int64HashTable.get_item\n",
      "KeyError: 6\n",
      "\n",
      "The above exception was the direct cause of the following exception:\n",
      "\n",
      "Traceback (most recent call last):\n",
      "  File \"/home/studio-lab-user/.conda/envs/default/lib/python3.9/site-packages/streamlit/script_runner.py\", line 379, in _run_script\n",
      "    exec(code, module.__dict__)\n",
      "  File \"/home/studio-lab-user/sagemaker-studiolab-notebooks/app.py\", line 97, in <module>\n",
      "    app()\n",
      "  File \"/home/studio-lab-user/sagemaker-studiolab-notebooks/app.py\", line 88, in app\n",
      "    main_map = make_map(df)\n",
      "  File \"/home/studio-lab-user/.conda/envs/default/lib/python3.9/site-packages/streamlit/legacy_caching/caching.py\", line 573, in wrapped_func\n",
      "    return get_or_create_cached_value()\n",
      "  File \"/home/studio-lab-user/.conda/envs/default/lib/python3.9/site-packages/streamlit/legacy_caching/caching.py\", line 557, in get_or_create_cached_value\n",
      "    return_value = func(*args, **kwargs)\n",
      "  File \"/home/studio-lab-user/sagemaker-studiolab-notebooks/app.py\", line 20, in make_map\n",
      "    folium.Marker(location=[float(df.loc[i,'Latitude']), float(df.loc[i,'Longitude'])],\n",
      "  File \"/home/studio-lab-user/.conda/envs/default/lib/python3.9/site-packages/pandas/core/indexing.py\", line 960, in __getitem__\n",
      "    return self.obj._get_value(*key, takeable=self._takeable)\n",
      "  File \"/home/studio-lab-user/.conda/envs/default/lib/python3.9/site-packages/pandas/core/frame.py\", line 3623, in _get_value\n",
      "    row = self.index.get_loc(index)\n",
      "  File \"/home/studio-lab-user/.conda/envs/default/lib/python3.9/site-packages/pandas/core/indexes/base.py\", line 3623, in get_loc\n",
      "    raise KeyError(key) from err\n",
      "KeyError: 6\n",
      "\n",
      "All model checkpoint layers were used when initializing TFDistilBertForSequenceClassification.\n",
      "\n",
      "All the layers of TFDistilBertForSequenceClassification were initialized from the model checkpoint at ./SAModel/saved_model/.\n",
      "If your task is similar to the task the model of the checkpoint was trained on, you can already use TFDistilBertForSequenceClassification for predictions without further training.\n",
      "  locations Sentiment  Latitude Longitude\n",
      "0        RT      9.69  48.49162   9.21491\n",
      "All model checkpoint layers were used when initializing TFDistilBertForSequenceClassification.\n",
      "\n",
      "All the layers of TFDistilBertForSequenceClassification were initialized from the model checkpoint at ./SAModel/saved_model/.\n",
      "If your task is similar to the task the model of the checkpoint was trained on, you can already use TFDistilBertForSequenceClassification for predictions without further training.\n",
      "2022-02-05 17:12:23.912 Rate limit reached. Sleeping for: 551\n",
      "All model checkpoint layers were used when initializing TFDistilBertForSequenceClassification.\n",
      "\n",
      "All the layers of TFDistilBertForSequenceClassification were initialized from the model checkpoint at ./SAModel/saved_model/.\n",
      "If your task is similar to the task the model of the checkpoint was trained on, you can already use TFDistilBertForSequenceClassification for predictions without further training.\n",
      "  locations Sentiment  Latitude Longitude\n",
      "0        RT      9.63  48.49162   9.21491\n",
      "All model checkpoint layers were used when initializing TFDistilBertForSequenceClassification.\n",
      "\n",
      "All the layers of TFDistilBertForSequenceClassification were initialized from the model checkpoint at ./SAModel/saved_model/.\n",
      "If your task is similar to the task the model of the checkpoint was trained on, you can already use TFDistilBertForSequenceClassification for predictions without further training.\n",
      "          locations Sentiment  Latitude Longitude\n",
      "0           Zakaria      10.0  24.79206  84.73446\n",
      "1           Kashmir       1.7  24.86905  86.18023\n",
      "2  Allahabad, India      1.68  25.43609  81.84718\n",
      "3         Bhagalpur      1.66  25.24183  86.98627\n",
      "All model checkpoint layers were used when initializing TFDistilBertForSequenceClassification.\n",
      "\n",
      "All the layers of TFDistilBertForSequenceClassification were initialized from the model checkpoint at ./SAModel/saved_model/.\n",
      "If your task is similar to the task the model of the checkpoint was trained on, you can already use TFDistilBertForSequenceClassification for predictions without further training.\n",
      "2022-02-05 17:20:16.474 Rate limit reached. Sleeping for: 471\n",
      "All model checkpoint layers were used when initializing TFDistilBertForSequenceClassification.\n",
      "\n",
      "All the layers of TFDistilBertForSequenceClassification were initialized from the model checkpoint at ./SAModel/saved_model/.\n",
      "If your task is similar to the task the model of the checkpoint was trained on, you can already use TFDistilBertForSequenceClassification for predictions without further training.\n",
      "2022-02-05 17:27:56.064 Rate limit reached. Sleeping for: 11\n",
      "                                    locations Sentiment  Latitude Longitude\n",
      "0                                Mumbai Bihar      9.95  18.96974  72.81512\n",
      "1                                Andheri West      9.91   19.1293  72.83139\n",
      "3                                 Mumbai City      9.83  18.94018  72.83489\n",
      "4                                   Ambernath      9.82  19.19574  73.19404\n",
      "6                               बारामती, भारत      9.76  18.16536   74.5923\n",
      "7                     595, Budhwar Peth, Pune      9.74  18.51846  73.85667\n",
      "8                    Pune, Maharashtra, India      9.74  18.50422  73.85286\n",
      "9                             Versova, Mumbai      9.73   19.1377  72.81349\n",
      "10                             Surat, Gujarat      9.73  21.18582  72.83668\n",
      "11                    Kalyan Dombivali, India      9.71  19.24241  73.22541\n",
      "12                           Mumbai Ahmedabad      9.71  19.05762  72.84669\n",
      "13                              Punjab Mumbai      9.71  19.22985  72.85271\n",
      "14              मुंबई, महाराष्ट्र, हिंदुस्थान      9.67  19.22135  72.86757\n",
      "15                             Mumbai Gujarat      9.67  21.19417  72.83838\n",
      "16                          Kurla West Mumbai      9.64  19.08521  72.88537\n",
      "17                              Vasai Mumbai.      9.63  19.08006  72.99861\n",
      "19               Mumbai International Airport      9.51  19.08536  72.85791\n",
      "20  Mumbai International Airport ShahRukhKhan      9.48  19.09413  72.85581\n",
      "2022-02-05 17:29:09.381 Traceback (most recent call last):\n",
      "  File \"/home/studio-lab-user/.conda/envs/default/lib/python3.9/site-packages/streamlit/legacy_caching/caching.py\", line 539, in get_or_create_cached_value\n",
      "    return_value = _read_from_cache(\n",
      "  File \"/home/studio-lab-user/.conda/envs/default/lib/python3.9/site-packages/streamlit/legacy_caching/caching.py\", line 338, in _read_from_cache\n",
      "    raise e\n",
      "  File \"/home/studio-lab-user/.conda/envs/default/lib/python3.9/site-packages/streamlit/legacy_caching/caching.py\", line 323, in _read_from_cache\n",
      "    return _read_from_mem_cache(\n",
      "  File \"/home/studio-lab-user/.conda/envs/default/lib/python3.9/site-packages/streamlit/legacy_caching/caching.py\", line 241, in _read_from_mem_cache\n",
      "    raise CacheKeyNotFoundError(\"Key not found in mem cache\")\n",
      "streamlit.legacy_caching.caching.CacheKeyNotFoundError: Key not found in mem cache\n",
      "\n",
      "During handling of the above exception, another exception occurred:\n",
      "\n",
      "Traceback (most recent call last):\n",
      "  File \"/home/studio-lab-user/.conda/envs/default/lib/python3.9/site-packages/pandas/core/indexes/base.py\", line 3621, in get_loc\n",
      "    return self._engine.get_loc(casted_key)\n",
      "  File \"pandas/_libs/index.pyx\", line 136, in pandas._libs.index.IndexEngine.get_loc\n",
      "  File \"pandas/_libs/index.pyx\", line 163, in pandas._libs.index.IndexEngine.get_loc\n",
      "  File \"pandas/_libs/hashtable_class_helper.pxi\", line 2131, in pandas._libs.hashtable.Int64HashTable.get_item\n",
      "  File \"pandas/_libs/hashtable_class_helper.pxi\", line 2140, in pandas._libs.hashtable.Int64HashTable.get_item\n",
      "KeyError: 2\n",
      "\n",
      "The above exception was the direct cause of the following exception:\n",
      "\n",
      "Traceback (most recent call last):\n",
      "  File \"/home/studio-lab-user/.conda/envs/default/lib/python3.9/site-packages/streamlit/script_runner.py\", line 379, in _run_script\n",
      "    exec(code, module.__dict__)\n",
      "  File \"/home/studio-lab-user/sagemaker-studiolab-notebooks/app.py\", line 90, in <module>\n",
      "    app()\n",
      "  File \"/home/studio-lab-user/sagemaker-studiolab-notebooks/app.py\", line 81, in app\n",
      "    main_map = make_map(df)\n",
      "  File \"/home/studio-lab-user/.conda/envs/default/lib/python3.9/site-packages/streamlit/legacy_caching/caching.py\", line 573, in wrapped_func\n",
      "    return get_or_create_cached_value()\n",
      "  File \"/home/studio-lab-user/.conda/envs/default/lib/python3.9/site-packages/streamlit/legacy_caching/caching.py\", line 557, in get_or_create_cached_value\n",
      "    return_value = func(*args, **kwargs)\n",
      "  File \"/home/studio-lab-user/sagemaker-studiolab-notebooks/app.py\", line 21, in make_map\n",
      "    folium.Marker(location=[float(df.loc[i,'Latitude']), float(df.loc[i,'Longitude'])],\n",
      "  File \"/home/studio-lab-user/.conda/envs/default/lib/python3.9/site-packages/pandas/core/indexing.py\", line 960, in __getitem__\n",
      "    return self.obj._get_value(*key, takeable=self._takeable)\n",
      "  File \"/home/studio-lab-user/.conda/envs/default/lib/python3.9/site-packages/pandas/core/frame.py\", line 3623, in _get_value\n",
      "    row = self.index.get_loc(index)\n",
      "  File \"/home/studio-lab-user/.conda/envs/default/lib/python3.9/site-packages/pandas/core/indexes/base.py\", line 3623, in get_loc\n",
      "    raise KeyError(key) from err\n",
      "KeyError: 2\n",
      "\n",
      "All model checkpoint layers were used when initializing TFDistilBertForSequenceClassification.\n",
      "\n",
      "All the layers of TFDistilBertForSequenceClassification were initialized from the model checkpoint at ./SAModel/saved_model/.\n",
      "If your task is similar to the task the model of the checkpoint was trained on, you can already use TFDistilBertForSequenceClassification for predictions without further training.\n",
      "[['Andheri West' 9.78 19.1293 72.83139]\n",
      " ['Mumbai Bihar' 9.66 18.96974 72.81512]\n",
      " ['Maharashtra, India' 9.51 18.94018 72.83489]\n",
      " ['Ambernath' 9.5 19.19574 73.19404]\n",
      " ['बारामती, भारत' 9.43 18.16536 74.5923]\n",
      " ['595, Budhwar Peth, Pune' 9.41 18.51846 73.85667]\n",
      " ['Surat, Gujarat' 9.39 21.18582 72.83668]\n",
      " ['Kalyan Dombivali, India' 9.37 19.24241 73.22541]\n",
      " ['Chembur, Mumbai' 9.36 19.04798 72.90031]\n",
      " ['Punjab Mumbai' 9.36 19.22985 72.85271]\n",
      " ['मुंबई, महाराष्ट्र, हिंदुस्थान' 9.31 19.22135 72.86757]\n",
      " ['Kurla West Mumbai' 9.29 19.08521 72.88537]\n",
      " ['LowerParel Mumbai' 9.27 18.99818 72.82814]\n",
      " ['Vasai Mumbai.' 9.27 19.08006 72.99861]\n",
      " ['Mumbai Ahmedabad' 9.21 19.05762 72.84669]\n",
      " ['Mumbai International Airport ShahRukhKhan' 9.09 19.09413 72.85581]\n",
      " ['Mumbai International Airport' 8.82 19.08536 72.85791]]\n",
      "All model checkpoint layers were used when initializing TFDistilBertForSequenceClassification.\n",
      "\n",
      "All the layers of TFDistilBertForSequenceClassification were initialized from the model checkpoint at ./SAModel/saved_model/.\n",
      "If your task is similar to the task the model of the checkpoint was trained on, you can already use TFDistilBertForSequenceClassification for predictions without further training.\n",
      "2022-02-05 17:33:40.090 Rate limit reached. Sleeping for: 568\n",
      "All model checkpoint layers were used when initializing TFDistilBertForSequenceClassification.\n",
      "\n",
      "All the layers of TFDistilBertForSequenceClassification were initialized from the model checkpoint at ./SAModel/saved_model/.\n",
      "If your task is similar to the task the model of the checkpoint was trained on, you can already use TFDistilBertForSequenceClassification for predictions without further training.\n",
      "2022-02-05 17:37:57.313 Rate limit reached. Sleeping for: 311\n"
     ]
    }
   ],
   "source": [
    "!streamlit run app.py"
   ]
  },
  {
   "cell_type": "code",
   "execution_count": null,
   "id": "9713be10-d36e-4a2d-acb1-87de98d66e6c",
   "metadata": {},
   "outputs": [],
   "source": []
  }
 ],
 "metadata": {
  "kernelspec": {
   "display_name": "default:Python",
   "language": "python",
   "name": "conda-env-default-py"
  },
  "language_info": {
   "codemirror_mode": {
    "name": "ipython",
    "version": 3
   },
   "file_extension": ".py",
   "mimetype": "text/x-python",
   "name": "python",
   "nbconvert_exporter": "python",
   "pygments_lexer": "ipython3",
   "version": "3.9.7"
  }
 },
 "nbformat": 4,
 "nbformat_minor": 5
}
