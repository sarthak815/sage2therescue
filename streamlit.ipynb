{
 "cells": [
  {
   "cell_type": "code",
   "execution_count": 1,
   "id": "ecda4bbb-8070-49a7-b704-ac023e4c6262",
   "metadata": {},
   "outputs": [
    {
     "name": "stdout",
     "output_type": "stream",
     "text": [
      "--2022-02-06 22:22:16--  https://bin.equinox.io/c/4VmDzA7iaHb/ngrok-stable-linux-amd64.zip\n",
      "Resolving bin.equinox.io (bin.equinox.io)... 18.205.222.128, 54.161.241.46, 52.202.168.65, ...\n",
      "Connecting to bin.equinox.io (bin.equinox.io)|18.205.222.128|:443... connected.\n",
      "HTTP request sent, awaiting response... 200 OK\n",
      "Length: 13832437 (13M) [application/octet-stream]\n",
      "Saving to: 'ngrok-stable-linux-amd64.zip'\n",
      "\n",
      "ngrok-stable-linux- 100%[===================>]  13.19M  63.8MB/s    in 0.2s    \n",
      "\n",
      "2022-02-06 22:22:16 (63.8 MB/s) - 'ngrok-stable-linux-amd64.zip' saved [13832437/13832437]\n",
      "\n"
     ]
    }
   ],
   "source": [
    "!wget -O ngrok-stable-linux-amd64.zip https://bin.equinox.io/c/4VmDzA7iaHb/ngrok-stable-linux-amd64.zip"
   ]
  },
  {
   "cell_type": "code",
   "execution_count": 2,
   "id": "04e7a796-a7db-461d-84c5-2b80840a4aa1",
   "metadata": {},
   "outputs": [
    {
     "name": "stdout",
     "output_type": "stream",
     "text": [
      "Archive:  ngrok-stable-linux-amd64.zip\n",
      "  inflating: ngrok                   \n"
     ]
    }
   ],
   "source": [
    "!unzip -o ngrok-stable-linux-amd64.zip"
   ]
  },
  {
   "cell_type": "code",
   "execution_count": 3,
   "id": "c76b73c8-26d4-4851-b610-0a4928a082d3",
   "metadata": {},
   "outputs": [
    {
     "name": "stdout",
     "output_type": "stream",
     "text": [
      "Authtoken saved to configuration file: /home/studio-lab-user/.ngrok2/ngrok.yml\n"
     ]
    }
   ],
   "source": [
    "get_ipython().system_raw('./ngrok authtoken 24hAcAkyycSAirGpVDI0JvlPeqZ_3QjNGoSbQ8xjKkLBJNvx9')"
   ]
  },
  {
   "cell_type": "code",
   "execution_count": 4,
   "id": "052383af-8cdb-4103-a8be-82e200a472d9",
   "metadata": {},
   "outputs": [],
   "source": [
    "get_ipython().system_raw('./ngrok http 8501 &')"
   ]
  },
  {
   "cell_type": "code",
   "execution_count": 5,
   "id": "b58791c4-f1ba-43e7-8862-40673d5d670d",
   "metadata": {},
   "outputs": [
    {
     "name": "stdout",
     "output_type": "stream",
     "text": [
      "Execute the next cell and the go to the following URL: https://b4d9-3-132-111-50.ngrok.io\n"
     ]
    }
   ],
   "source": [
    "!curl -s http://localhost:4040/api/tunnels | python3 -c \\\n",
    "    'import sys, json; print(\"Execute the next cell and the go to the following URL: \" +json.load(sys.stdin)[\"tunnels\"][0][\"public_url\"])'"
   ]
  },
  {
   "cell_type": "code",
   "execution_count": null,
   "id": "d05befe1-7e23-4642-a7cd-6604c549d8f1",
   "metadata": {},
   "outputs": [
    {
     "name": "stdout",
     "output_type": "stream",
     "text": [
      "\u001b[0m\n",
      "\u001b[34m\u001b[1m  You can now view your Streamlit app in your browser.\u001b[0m\n",
      "\u001b[0m\n",
      "\u001b[34m  Network URL: \u001b[0m\u001b[1mhttp://169.254.255.2:8501\u001b[0m\n",
      "\u001b[34m  External URL: \u001b[0m\u001b[1mhttp://3.132.111.50:8501\u001b[0m\n",
      "\u001b[0m\n",
      "404 Client Error: Entry Not Found for url: https://huggingface.co/AmanPriyanshu/DistilBert-Sentiment-Analysis/resolve/main/config.json\n",
      "2022-02-06 22:23:18.865 Traceback (most recent call last):\n",
      "  File \"/home/studio-lab-user/.conda/envs/default/lib/python3.9/site-packages/transformers/configuration_utils.py\", line 585, in _get_config_dict\n",
      "    resolved_config_file = cached_path(\n",
      "  File \"/home/studio-lab-user/.conda/envs/default/lib/python3.9/site-packages/transformers/file_utils.py\", line 1846, in cached_path\n",
      "    output_path = get_from_cache(\n",
      "  File \"/home/studio-lab-user/.conda/envs/default/lib/python3.9/site-packages/transformers/file_utils.py\", line 2050, in get_from_cache\n",
      "    _raise_for_status(r)\n",
      "  File \"/home/studio-lab-user/.conda/envs/default/lib/python3.9/site-packages/transformers/file_utils.py\", line 1973, in _raise_for_status\n",
      "    raise EntryNotFoundError(f\"404 Client Error: Entry Not Found for url: {request.url}\")\n",
      "transformers.file_utils.EntryNotFoundError: 404 Client Error: Entry Not Found for url: https://huggingface.co/AmanPriyanshu/DistilBert-Sentiment-Analysis/resolve/main/config.json\n",
      "\n",
      "During handling of the above exception, another exception occurred:\n",
      "\n",
      "Traceback (most recent call last):\n",
      "  File \"/home/studio-lab-user/.conda/envs/default/lib/python3.9/site-packages/streamlit/script_runner.py\", line 379, in _run_script\n",
      "    exec(code, module.__dict__)\n",
      "  File \"/home/studio-lab-user/sagemaker-studiolab-notebooks/AWS_Tweets_Project/streamlit/app.py\", line 98, in <module>\n",
      "    app()\n",
      "  File \"/home/studio-lab-user/sagemaker-studiolab-notebooks/AWS_Tweets_Project/streamlit/app.py\", line 55, in app\n",
      "    df = scrape_and_get(query=loc)\n",
      "  File \"/home/studio-lab-user/sagemaker-studiolab-notebooks/./AWS_Tweets_Project/streamlit/functions.py\", line 94, in scrape_and_get\n",
      "    sa = SAModel()\n",
      "  File \"/home/studio-lab-user/sagemaker-studiolab-notebooks/./AWS_Tweets_Project/streamlit/functions.py\", line 54, in __init__\n",
      "    self.model = TFDistilBertForSequenceClassification.from_pretrained('AmanPriyanshu/DistilBert-Sentiment-Analysis')\n",
      "  File \"/home/studio-lab-user/.conda/envs/default/lib/python3.9/site-packages/transformers/modeling_tf_utils.py\", line 1524, in from_pretrained\n",
      "    config, model_kwargs = cls.config_class.from_pretrained(\n",
      "  File \"/home/studio-lab-user/.conda/envs/default/lib/python3.9/site-packages/transformers/configuration_utils.py\", line 510, in from_pretrained\n",
      "    config_dict, kwargs = cls.get_config_dict(pretrained_model_name_or_path, **kwargs)\n",
      "  File \"/home/studio-lab-user/.conda/envs/default/lib/python3.9/site-packages/transformers/configuration_utils.py\", line 537, in get_config_dict\n",
      "    config_dict, kwargs = cls._get_config_dict(pretrained_model_name_or_path, **kwargs)\n",
      "  File \"/home/studio-lab-user/.conda/envs/default/lib/python3.9/site-packages/transformers/configuration_utils.py\", line 613, in _get_config_dict\n",
      "    raise EnvironmentError(\n",
      "OSError: AmanPriyanshu/DistilBert-Sentiment-Analysis does not appear to have a file named config.json.\n",
      "\n",
      "Downloading: 100%|██████████████████████████████| 523/523 [00:00<00:00, 506kB/s]\n",
      "Downloading: 100%|███████████████████████████| 256M/256M [00:05<00:00, 49.0MB/s]\n",
      "2022-02-06 22:24:26.471405: W tensorflow/python/util/util.cc:368] Sets are not currently considered sequences, but this may change in the future, so consider avoiding using them.\n",
      "All model checkpoint layers were used when initializing TFDistilBertForSequenceClassification.\n",
      "\n",
      "All the layers of TFDistilBertForSequenceClassification were initialized from the model checkpoint at AmanPriyanshu/DistilBert-Sentiment-Analysis.\n",
      "If your task is similar to the task the model of the checkpoint was trained on, you can already use TFDistilBertForSequenceClassification for predictions without further training.\n"
     ]
    }
   ],
   "source": [
    "!streamlit run ./AWS_Tweets_Project/streamlit/app.py"
   ]
  },
  {
   "cell_type": "code",
   "execution_count": null,
   "id": "9713be10-d36e-4a2d-acb1-87de98d66e6c",
   "metadata": {},
   "outputs": [],
   "source": []
  }
 ],
 "metadata": {
  "kernelspec": {
   "display_name": "default:Python",
   "language": "python",
   "name": "conda-env-default-py"
  },
  "language_info": {
   "codemirror_mode": {
    "name": "ipython",
    "version": 3
   },
   "file_extension": ".py",
   "mimetype": "text/x-python",
   "name": "python",
   "nbconvert_exporter": "python",
   "pygments_lexer": "ipython3",
   "version": "3.9.7"
  }
 },
 "nbformat": 4,
 "nbformat_minor": 5
}
